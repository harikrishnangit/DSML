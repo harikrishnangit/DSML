{
  "nbformat": 4,
  "nbformat_minor": 0,
  "metadata": {
    "colab": {
      "name": "exp4copy.ipynb",
      "provenance": [],
      "authorship_tag": "ABX9TyP5Sp6L0QgJtr138VlYsAAi",
      "include_colab_link": true
    },
    "kernelspec": {
      "name": "python3",
      "display_name": "Python 3"
    },
    "language_info": {
      "name": "python"
    }
  },
  "cells": [
    {
      "cell_type": "markdown",
      "metadata": {
        "id": "view-in-github",
        "colab_type": "text"
      },
      "source": [
        "<a href=\"https://colab.research.google.com/github/harikrishnangit/DSML/blob/main/exp4copy.ipynb\" target=\"_parent\"><img src=\"https://colab.research.google.com/assets/colab-badge.svg\" alt=\"Open In Colab\"/></a>"
      ]
    },
    {
      "cell_type": "code",
      "metadata": {
        "colab": {
          "base_uri": "https://localhost:8080/",
          "height": 135
        },
        "id": "APM0qV0XnmCs",
        "outputId": "0267a1ad-539a-49f2-865d-7a61e9fddcbb"
      },
      "source": [
        "import pandas as pd\n",
        "import numpy as np \n",
        "import matplotlib.pyplot as plt\n",
        "import seaborn as sns\n",
        "from scipy import stats\n",
        "\n",
        "movies_df = pd.read_csv(\"movie_metadata.csv\")\n",
        "print movies_df.head(3)\n",
        "print movies_df.describe()\n",
        " check the column names\n",
        "print \"column names: \", movies_df.columns.values\n",
        "print movies_df.dtypes\n",
        "print \"data-frame shape: \", movies_df.shape # (5043, 28)\n",
        "\n",
        "# check null data \n",
        "print \"null values: \\n\", \n",
        "print movies_df.isna() # same as movies_df.isnull().sum()\n",
        "print movies_df.isna().sum()\n",
        "print \"null values\", movies_df.isnull().values.any() \n",
        "print \"total null values\", movies_df.isna().sum().sum()\n",
        "print movies_df.describe()\n",
        "\n",
        "#clean_movies_df = movies_df.dropna(how='any')\n",
        "movies_df = movies_df.dropna(how='any')\n",
        "\n",
        "print \"new dataframe shape: \", clean_movies_df.shape # (3756, 28)\n",
        "print \"old dataframe shape: \", movies_df.shape\n",
        "#use fillna attribute of pandas \n",
        "#for filling up missing values in all columns  \n",
        "movies_df.fillna(value=0, inplace=True)\n",
        "\n",
        "# for some specfific columns we can just choose select those columns \n",
        " movies_df[['gross', 'budget']]=movies_df[['gross', 'budget']].fillna(value=0)\n",
        "# filling with the mean\n",
        "movies_df['budget'].fillna(movies_df[budget].mean(), inplace=True) \n",
        "\n",
        "#for this dataframe we can use 'missing' in the columns of object data types for example language or movie_imdb_link\n",
        "\n",
        "movies_df['language'].fillna(\"no info\", inplace=True) \n",
        "\n",
        "print \"null values\", movies_df.isna().sum() # now no missing values in languages column!\n",
        "\n",
        "#++++++++++++++++++++++++++++++++++++++++++++++++++++++++++++++++++++++++\n",
        "\n",
        "# check if there are duplicate rows or not \n",
        "\n",
        "#++++++++++++++++++++++++++++++++++++++++++++++++++++++++++++++++++++++++\n",
        "\n",
        "duplicate_rows_df = movies_df[movies_df.duplicated()]\n",
        "print \"number of duplicate rows: \", duplicate_rows_df.shape\n",
        "\n",
        "\n",
        "print duplicate_rows_df.head(6)\n",
        "print movies_df['movie_imdb_link'].head(3)\n",
        "\n",
        "duplicate_rows_df_imdb_link = movies_df[movies_df.duplicated(['movie_imdb_link'])]\n",
        "print duplicate_rows_df_imdb_link.head(3)\n",
        "print \"shape of duplicate dataframe with same imdb link\", duplicate_rows_df_imdb_link.shape\n",
        "\n",
        "print len(movies_df.movie_imdb_link.unique())\n",
        "# select duplicate rows except first occurences, consider all columns  \n",
        "duplicate_rows_df = movies_df[movies_df.duplicated()]\n",
        "print type(duplicate_rows_df) # dataframe \n",
        "print duplicate_rows_df.shape\n",
        "\n",
        "\n",
        "#++++++++++++++++++++++++++++++++\n",
        "# drop_duplicates\n",
        "#++++++++++++++++++++++++++++++++\n",
        "\n",
        "Drop duplicate rows (duplicate values for all entries)\n",
        "print \"shape of dataframe before dropping duplicates\", movies_df.shape\n",
        "print \"shape of dataframe after dropping duplicates\", movies_df.drop_duplicates().shape\n",
        "\n",
        "\n",
        "#+++++++++++++++++++++++++++++++++++++++++++++++\n",
        "#+ discretization or binning\n",
        "#+++++++++++++++++++++++++++++++++++++++++++++++\n",
        "\n",
        "print movies_df['imdb_score'][5:10]\n",
        "# check the miminmum value of all columns\n",
        "print \"minimum values of all cloumn:\", \n",
        "print '\\n'\n",
        "print movies_df.min()\n",
        "print movies_df['imdb_score'].idxmax()\n",
        "print movies_df.loc[movies_df['imdb_score'].idxmax(), 'movie_title']\n",
        "print movies_df['movie_title'].loc[2764:2767]\n",
        "print movies_df['budget'].idxmax()\n",
        "print movies_df[['movie_title','budget']].loc[2986:2990]\n",
        "\n",
        "# check the distribution of imdb score\n",
        "fig = plt.figure(figsize=(10,7))\n",
        "sns.distplot(movies_df['imdb_score'])\n",
        "plt.xlabel('IMDB Score', fontsize=12)\n",
        "sns.jointplot(x='budget', y='imdb_score', data=movies_df); \n",
        "plt.show()\n",
        "\n",
        "\n",
        " based on the 'imdb_score' we will discriti"
      ],
      "execution_count": 4,
      "outputs": [
        {
          "output_type": "error",
          "ename": "SyntaxError",
          "evalue": "ignored",
          "traceback": [
            "\u001b[0;36m  File \u001b[0;32m\"<ipython-input-4-ee15096f78fa>\"\u001b[0;36m, line \u001b[0;32m8\u001b[0m\n\u001b[0;31m    print movies_df.head(3)\u001b[0m\n\u001b[0m                  ^\u001b[0m\n\u001b[0;31mSyntaxError\u001b[0m\u001b[0;31m:\u001b[0m invalid syntax\n"
          ]
        }
      ]
    }
  ]
}