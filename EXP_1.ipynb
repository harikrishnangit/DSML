{
  "nbformat": 4,
  "nbformat_minor": 0,
  "metadata": {
    "colab": {
      "name": "EXP-1.ipynb",
      "provenance": [],
      "collapsed_sections": [],
      "authorship_tag": "ABX9TyNmtZeBZ84OaDK4Kh0uV1zy",
      "include_colab_link": true
    },
    "kernelspec": {
      "name": "python3",
      "display_name": "Python 3"
    },
    "language_info": {
      "name": "python"
    }
  },
  "cells": [
    {
      "cell_type": "markdown",
      "metadata": {
        "id": "view-in-github",
        "colab_type": "text"
      },
      "source": [
        "<a href=\"https://colab.research.google.com/github/harikrishnangit/DSML/blob/main/EXP_1.ipynb\" target=\"_parent\"><img src=\"https://colab.research.google.com/assets/colab-badge.svg\" alt=\"Open In Colab\"/></a>"
      ]
    },
    {
      "cell_type": "markdown",
      "metadata": {
        "id": "6043RFULfSJW"
      },
      "source": [
        "datatypes"
      ]
    },
    {
      "cell_type": "code",
      "metadata": {
        "colab": {
          "base_uri": "https://localhost:8080/"
        },
        "id": "hD31TO9oWy89",
        "outputId": "fc4b4216-b9a7-4e28-c76e-751dc8496a4c"
      },
      "source": [
        "a=1\n",
        "print(type(a))\n",
        "b='HariMca'\n",
        "print(type(b))\n",
        "c=[1,2]\n",
        "print(type(c))\n",
        "d={1:'hari',2:'krish'}\n",
        "print(type(d))\n",
        "e=True\n",
        "print(type(e))\n",
        "f=33.01\n",
        "print(type(f))\n",
        "g={\"hari\",\"krish\"}\n",
        "print(type(g))\n",
        "h=(10,56)\n",
        "print(type(h))\n",
        "i=bytes(10)\n",
        "print(type(i))\n",
        "j=bytearray()\n",
        "print(type(j))\n",
        "k=range(4)\n",
        "print(type(k))\n"
      ],
      "execution_count": 17,
      "outputs": [
        {
          "output_type": "stream",
          "name": "stdout",
          "text": [
            "<class 'int'>\n",
            "<class 'str'>\n",
            "<class 'list'>\n",
            "<class 'dict'>\n",
            "<class 'bool'>\n",
            "<class 'float'>\n",
            "<class 'set'>\n",
            "<class 'tuple'>\n",
            "<class 'bytes'>\n",
            "<class 'bytearray'>\n",
            "<class 'range'>\n"
          ]
        }
      ]
    },
    {
      "cell_type": "markdown",
      "metadata": {
        "id": "nRfPaWKEfeJ8"
      },
      "source": [
        "Containers\n"
      ]
    },
    {
      "cell_type": "code",
      "metadata": {
        "colab": {
          "base_uri": "https://localhost:8080/"
        },
        "id": "tFhDGruBfgxG",
        "outputId": "a3bc43e6-475d-49d4-baea-8d362f0337c1"
      },
      "source": [
        "#list\n",
        "mca_list=['hari','giri','mca']\n",
        "print(mca_list[0])\n",
        "print(mca_list[0:2])\n",
        "print(mca_list[-2])"
      ],
      "execution_count": 26,
      "outputs": [
        {
          "output_type": "stream",
          "name": "stdout",
          "text": [
            "hari\n",
            "['hari', 'giri']\n",
            "giri\n"
          ]
        }
      ]
    },
    {
      "cell_type": "code",
      "metadata": {
        "id": "uG4hSIuthtvr"
      },
      "source": [
        ""
      ],
      "execution_count": null,
      "outputs": []
    }
  ]
}