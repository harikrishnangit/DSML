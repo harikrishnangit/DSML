{
  "nbformat": 4,
  "nbformat_minor": 0,
  "metadata": {
    "colab": {
      "name": "factorial.ipynb",
      "provenance": [],
      "collapsed_sections": [],
      "authorship_tag": "ABX9TyPgzUTeshq37qYXh8vNWCBa",
      "include_colab_link": true
    },
    "kernelspec": {
      "name": "python3",
      "display_name": "Python 3"
    },
    "language_info": {
      "name": "python"
    }
  },
  "cells": [
    {
      "cell_type": "markdown",
      "metadata": {
        "id": "view-in-github",
        "colab_type": "text"
      },
      "source": [
        "<a href=\"https://colab.research.google.com/github/harikrishnangit/DSML/blob/main/factorial.ipynb\" target=\"_parent\"><img src=\"https://colab.research.google.com/assets/colab-badge.svg\" alt=\"Open In Colab\"/></a>"
      ]
    },
    {
      "cell_type": "code",
      "metadata": {
        "colab": {
          "base_uri": "https://localhost:8080/"
        },
        "id": "hD31TO9oWy89",
        "outputId": "2046a5a1-594c-47c6-e24e-30222fa1bc35"
      },
      "source": [
        "def factorial(n):\n",
        "     \n",
        "    return 1 if (n==1 or n==0) else n * factorial(n - 1);\n",
        " \n",
        "num = 5;\n",
        "print(\"Factorial of\",num,\"is\",\n",
        "factorial(num))"
      ],
      "execution_count": 1,
      "outputs": [
        {
          "output_type": "stream",
          "name": "stdout",
          "text": [
            "Factorial of 5 is 120\n"
          ]
        }
      ]
    }
  ]
}